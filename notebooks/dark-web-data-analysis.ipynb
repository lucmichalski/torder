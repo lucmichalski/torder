{
 "cells": [
  {
   "cell_type": "markdown",
   "metadata": {},
   "source": [
    "# Dark Web Data Analysis\n",
    "\n",
    "by Andy Alba"
   ]
  },
  {
   "cell_type": "markdown",
   "metadata": {},
   "source": [
    "## Packages Used "
   ]
  },
  {
   "cell_type": "code",
   "execution_count": 1,
   "metadata": {},
   "outputs": [],
   "source": [
    "import pandas as pd\n",
    "import numpy as np\n",
    "import re\n",
    "from os import listdir\n",
    "import time\n",
    "\n",
    "\n",
    "import seaborn as sns\n",
    "import matplotlib.pyplot as plt\n",
    "\n",
    "import plotly\n",
    "import plotly.plotly as py\n",
    "import plotly.graph_objs as go"
   ]
  },
  {
   "cell_type": "markdown",
   "metadata": {},
   "source": [
    "## Classification Algorithim"
   ]
  },
  {
   "cell_type": "code",
   "execution_count": 3,
   "metadata": {},
   "outputs": [],
   "source": [
    "def get_agora_folders():\n",
    "    dirs = listdir(\"../data/grams\")\n",
    "    try:\n",
    "        dirs.remove('.DS_Store')\n",
    "    except:\n",
    "       None \n",
    "\n",
    "    dirs = [\"../data/grams/\" + date for date in dirs if date != '2014-06-11-2']\n",
    "    absolute_files = [date + \"/\" + i for date in dirs for i in listdir(date) if i == 'Agora.csv']\n",
    "    absolute_files.sort()\n",
    "    return absolute_files\n",
    "\n",
    "agora_files = get_agora_folders()\n",
    "\n",
    "def make_df_for_market(path):\n",
    "    \"\"\"\n",
    "        path is the path to the agora csv. \n",
    "        returns the dated csv of information.\n",
    "    \"\"\"\n",
    "    df = pd.read_csv(path)\n",
    "    df['date'] = path\n",
    "    df = df.drop(['hash', 'market_name','item_link', 'image_link', 'add_time', 'Unnamed: 10'], axis = 1)\n",
    "    df['date'] = df['date'].str.replace(\"[^(\\d+\\-\\d+\\-\\d+)]\", \"\")\n",
    "    df['date'] = pd.to_datetime(df['date'])\n",
    "    df.columns = ['Vendor', 'Price', 'Item', 'Item Description', 'Origin', 'Date']\n",
    "    df['Category'] = None\n",
    "    df = df[['Category', 'Vendor', 'Item', 'Item Description', 'Price', 'Origin', 'Date']]\n",
    "    df = df.drop_duplicates() \n",
    "    return df"
   ]
  },
  {
   "cell_type": "code",
   "execution_count": 5,
   "metadata": {},
   "outputs": [],
   "source": [
    "# These First 4 are for organzining Grams Data\n",
    "\n",
    "drug_bank = [\"(\\d*g)\", \"(\\d\\s*g)\", \"(\\d*g)\", \"(\\d\\s*g)\",\n",
    "             \"(\\d\\s*ml)\", \"(\\d*ml)\", \"(\\d*ml)\", \"(\\d\\s*ml)\",\n",
    "              \"(\\d\\s*mcu)\", \"(\\d*mcu)\", \"(\\d*mcu)\", \"(\\d\\s*mcu)\", 'seed',\n",
    "              \"(\\d\\s*oz)\", \"(\\d*oz)\", \"(\\d*oz)\", \"(\\d\\s*oz)\", \"cannabis\"\n",
    "              \"(\\d\\s*ounce)\", \"(\\d*ounce)\", \"(\\d*ounce)\", \"(\\d\\s*ounce)\",\n",
    "              \"tab\", 'crack', 'xtc', 'weed', 'diesel', 'kilo', 'heroin',\n",
    "              'cocaine', 'mdma', 'pill', 'cocaine', 'xtc', 'hash', 'cap'\n",
    "              'lsd', 'crystal', 'speed', 'xanax', 'mg', 'syrup', 'bud',\n",
    "              'gram', 'caps' , \"oxycodone\", 'mushroom', 'amphetamine',\n",
    "              \"fentanyl\", \"weed\", \"heroin\", \"fishscale\", \"crack\", 'neurobion'\n",
    "              \"vape ice\", \"valium\", \"ml\", \"promethazine\", \"flake\", 'dihydrocodeine'\n",
    "              \"snort\", \"kush\", \"meth\", \"coke\", 'ambien', 'dmt', 'jintropin'\n",
    "             \"pharm\", \"strain\", \"purity\", \"tablet\", \"clonazolam\", \"heroin\",\n",
    "             \"dope\", \"candy\", \"aaa\", \"skunk\", \"drug\", \"bar\", 'opiode'\n",
    "             ]\n",
    "\n",
    "serv_bank = ['youtube', 'vpn', 'vcc', 'amazon', 'hbo', 'tor', 'account',\n",
    "            'bank', 'card', 'custom', 'custum', 'cc', 'cvv', 'get', 'http'\n",
    "            'password', 'dns', 'phone', 'template', 'kindle','porn',\n",
    "            'facebook', 'address', 'email', 'domino', 'bitcoin', 'lifetime'\n",
    "            'cash', 'network', 'wifi', 'bill', 'fake', 'how', 'paypal',\n",
    "            'computer', 'trojan', 'sql', 'window', 'app', 'ddos', 'service'\n",
    "             'rat', 'hack', 'anti', 'data', 'linux', 'key', 'online', 'best'\n",
    "            'web', 'net', 'visa', 'dump', 'bin', 'website', 'android', 'us'\n",
    "            'exploit', 'money', 'bot', 'netflix', 'malware', 'adsense',\n",
    "            'adword', 'security', 'download', 'file', 'tutorial', 'free',\n",
    "            'microsoft', 'firewall', 'bypass', 'create', 'disable', 'adobe',\n",
    "            'dual', 'spoof', 'spyware', 'scam', 'information', 'hulu']\n",
    "\n",
    "guns_bank = ['pistol', 'ammunition', 'ak47', 'silencer', 'ammo', 'melee',\n",
    "            '9mm', '5.6mm', 'rpg','revolver', 'gun', '357', 'steel', \n",
    "            'pump', 'gun', 'millimeter', 'uzi', 'shotty', 'sawed-off',\n",
    "            'glock', 'escrow', 'blade', 'stealth', 'magazine', 'mags',\n",
    "            'knife', 'stun', 'handle', 'caliber', 'barrel', 'weapon',\n",
    "            'luger', 'round', 'voltage', 'compact', 'nato', 'microtech'\n",
    "            'carry', 'dusters', 'conceal', 'rifle', 'pulse', 'action']\n",
    "\n",
    "fake_bank = ['â', 'case', 'material', 'watch', 'steel' ,' stainless',\n",
    "             'information', 'diameter', 'brand', 'thickness', 'replica','band', \n",
    "            'color', 'size', 'wear', 'rolex', 'passport', 'listing', 'id',\n",
    "            'leather', 'business', 'fake', 'scanned', 'free', 'authentic',\n",
    "            'counterfeit', 'original', 'hustlegod', 'flashlight', 'shock',\n",
    "            'sunglass', 'armani', 'vuitton', 'forged', 'password', 'document'] \n",
    "\n",
    "other_bank = ['info', 'other', 'ebook', 'guide']\n",
    "kaggle_drugs = [\"drug\", \"tobacco\", \"chemicals\"]\n",
    "kaggle_serv = [\"services\", \"data\", \"btc\", \"jewelry\"]\n",
    "kaggle_guns = [\"weapon\"]\n",
    "kaggle_fake = [\"counterfeits\", \"forgeries\"]\n",
    "\n",
    "def categorize_text(text, drug_bank, hack_bank, guns_bank, fake_bank):\n",
    "    \"\"\"\n",
    "        This is the function to categorize items into either:\n",
    "            Drugs, Services, Guns/Weapons, Counterfeits or Misc.\n",
    "        You will need the word banks, above to to make this function work.\n",
    "    \"\"\"\n",
    "    \n",
    "    drugs = [bool(re.search(d, str(text).lower())) for d in drug_bank]\n",
    "    guns = [bool(re.search(g, str(text).lower())) for g in guns_bank]\n",
    "    hacks = [bool(h in str(text).lower()) for h in hack_bank]\n",
    "    fake = [bool(f in str(text).lower()) for f in fake_bank]\n",
    "    other = [bool(o in str(text).lower()) for o in other_bank]\n",
    "    if sum(other) > sum(drugs): \n",
    "        if sum(other) > sum(fake):\n",
    "            if sum(other) > sum(hacks):\n",
    "                if sum(other) >= sum(drugs):\n",
    "                    return 'Misc'\n",
    "                else:\n",
    "                    return 'Drugs'\n",
    "            else:\n",
    "                return 'Services'\n",
    "        else:\n",
    "            return 'Counterfeits'\n",
    "    elif sum(guns) > sum(drugs): \n",
    "        return 'Weapons'\n",
    "    elif sum(fake) > sum(drugs): \n",
    "        return 'Counterfeits'\n",
    "    elif sum(drugs) >= sum(hacks): \n",
    "        return 'Drugs'\n",
    "    elif sum(hacks) > sum(guns): \n",
    "        return 'Services'\n",
    "    else: \n",
    "        return 'Misc'"
   ]
  },
  {
   "cell_type": "code",
   "execution_count": 9,
   "metadata": {
    "scrolled": true
   },
   "outputs": [],
   "source": [
    "def get_vendor_category_counts(df, name):\n",
    "    df['Category'] = df['description'].apply(lambda x: categorize_text(x, drug_bank, serv_bank, guns_bank, fake_bank))\n",
    "    vc_df = pd.DataFrame(df['Category'].value_counts())\n",
    "    vc_df['Vendor'] = name\n",
    "    vc_df = vc_df.reset_index()\n",
    "    vc_df.columns = ['Category', 'Count', 'Vendor']\n",
    "    return vc_df\n",
    "\n",
    "def vendor_counts(path):\n",
    "    try:\n",
    "        df = pd.read_csv(path, usecols = ['vendor_name', 'description'] )\n",
    "        vendors = df['vendor_name'].unique()\n",
    "        vc_df = get_vendor_category_counts(df[df['vendor_name'] == vendors[0]], vendors[0])\n",
    "        for v in vendors[1:]:\n",
    "            temp = get_vendor_category_counts(df[df['vendor_name'] == v], v)\n",
    "            vc_df = pd.concat([vc_df, temp])\n",
    "\n",
    "        vc_df['Date'] = path\n",
    "        vc_df['Date'] = vc_df['Date'].str.replace(\"[^(\\d+\\-\\d+\\-\\d+)]\", \"\")\n",
    "        vc_df['Date'] = pd.to_datetime(vc_df['Date'])\n",
    "        return vc_df\n",
    "    except:\n",
    "        df = pd.DataFrame(columns=['Category', 'Count', 'Vendor', 'Date'])\n",
    "        return df"
   ]
  },
  {
   "cell_type": "code",
   "execution_count": 11,
   "metadata": {},
   "outputs": [
    {
     "name": "stderr",
     "output_type": "stream",
     "text": [
      "/Users/Andy/anaconda3/lib/python3.7/site-packages/ipykernel_launcher.py:2: SettingWithCopyWarning:\n",
      "\n",
      "\n",
      "A value is trying to be set on a copy of a slice from a DataFrame.\n",
      "Try using .loc[row_indexer,col_indexer] = value instead\n",
      "\n",
      "See the caveats in the documentation: http://pandas.pydata.org/pandas-docs/stable/indexing.html#indexing-view-versus-copy\n",
      "\n"
     ]
    },
    {
     "name": "stdout",
     "output_type": "stream",
     "text": [
      "16479.681746959686\n"
     ]
    }
   ],
   "source": [
    "start = time.time()\n",
    "agora_df = vendor_counts(agora_files[0])\n",
    "for file in agora_files[1:]:\n",
    "    temp = vendor_counts(file)\n",
    "    agora_df = pd.concat([agora_df, temp])\n",
    "end = time.time()\n",
    "print(end - start)"
   ]
  },
  {
   "cell_type": "code",
   "execution_count": 17,
   "metadata": {
    "scrolled": true
   },
   "outputs": [
    {
     "data": {
      "text/plain": [
       "(293094, 4)"
      ]
     },
     "execution_count": 17,
     "metadata": {},
     "output_type": "execute_result"
    }
   ],
   "source": [
    "agora_df.shape"
   ]
  },
  {
   "cell_type": "code",
   "execution_count": 23,
   "metadata": {},
   "outputs": [],
   "source": [
    "export_csv = agora_df.to_csv('../data/vendor_categories.csv')"
   ]
  },
  {
   "cell_type": "markdown",
   "metadata": {},
   "source": [
    "## Data Cleaning and Analysis"
   ]
  },
  {
   "cell_type": "code",
   "execution_count": 3,
   "metadata": {},
   "outputs": [],
   "source": [
    "agora_df = pd.read_csv('../data/vendor_categories.csv')"
   ]
  },
  {
   "cell_type": "code",
   "execution_count": 8,
   "metadata": {},
   "outputs": [
    {
     "data": {
      "text/html": [
       "<div>\n",
       "<style scoped>\n",
       "    .dataframe tbody tr th:only-of-type {\n",
       "        vertical-align: middle;\n",
       "    }\n",
       "\n",
       "    .dataframe tbody tr th {\n",
       "        vertical-align: top;\n",
       "    }\n",
       "\n",
       "    .dataframe thead th {\n",
       "        text-align: right;\n",
       "    }\n",
       "</style>\n",
       "<table border=\"1\" class=\"dataframe\">\n",
       "  <thead>\n",
       "    <tr style=\"text-align: right;\">\n",
       "      <th></th>\n",
       "      <th>Category</th>\n",
       "      <th>Vendor</th>\n",
       "      <th>Item</th>\n",
       "      <th>Item Description</th>\n",
       "      <th>Price</th>\n",
       "      <th>Origin</th>\n",
       "      <th>Destination</th>\n",
       "      <th>Rating</th>\n",
       "    </tr>\n",
       "  </thead>\n",
       "  <tbody>\n",
       "    <tr>\n",
       "      <th>0</th>\n",
       "      <td>Services/Hacking</td>\n",
       "      <td>CheapPayTV</td>\n",
       "      <td>12 Month HuluPlus gift Code</td>\n",
       "      <td>12-Month HuluPlus Codes for $25. They are wort...</td>\n",
       "      <td>0.050270</td>\n",
       "      <td>Torland</td>\n",
       "      <td>NaN</td>\n",
       "      <td>4.96</td>\n",
       "    </tr>\n",
       "    <tr>\n",
       "      <th>1</th>\n",
       "      <td>Services/Hacking</td>\n",
       "      <td>CheapPayTV</td>\n",
       "      <td>Pay TV Sky UK  Sky Germany HD TV  and much mor...</td>\n",
       "      <td>Hi we offer a World Wide CCcam  Service for En...</td>\n",
       "      <td>0.152420</td>\n",
       "      <td>Torland</td>\n",
       "      <td>NaN</td>\n",
       "      <td>4.96</td>\n",
       "    </tr>\n",
       "    <tr>\n",
       "      <th>2</th>\n",
       "      <td>Services/Hacking</td>\n",
       "      <td>KryptykOG</td>\n",
       "      <td>OFFICIAL Account Creator Extreme 4.2</td>\n",
       "      <td>Tagged Submission Fix Bebo Submission Fix Adju...</td>\n",
       "      <td>0.007000</td>\n",
       "      <td>Torland</td>\n",
       "      <td>NaN</td>\n",
       "      <td>4.93</td>\n",
       "    </tr>\n",
       "    <tr>\n",
       "      <th>3</th>\n",
       "      <td>Services/Hacking</td>\n",
       "      <td>cyberzen</td>\n",
       "      <td>VPN &gt; TOR &gt; SOCK TUTORIAL</td>\n",
       "      <td>How to setup a VPN &gt; TOR &gt; SOCK super safe enc...</td>\n",
       "      <td>0.019017</td>\n",
       "      <td>NaN</td>\n",
       "      <td>NaN</td>\n",
       "      <td>4.89</td>\n",
       "    </tr>\n",
       "    <tr>\n",
       "      <th>4</th>\n",
       "      <td>Services/Hacking</td>\n",
       "      <td>businessdude</td>\n",
       "      <td>Facebook hacking guide</td>\n",
       "      <td>.  This guide will teach you how to hack Faceb...</td>\n",
       "      <td>0.062018</td>\n",
       "      <td>Torland</td>\n",
       "      <td>NaN</td>\n",
       "      <td>4.88</td>\n",
       "    </tr>\n",
       "  </tbody>\n",
       "</table>\n",
       "</div>"
      ],
      "text/plain": [
       "           Category        Vendor  \\\n",
       "0  Services/Hacking    CheapPayTV   \n",
       "1  Services/Hacking    CheapPayTV   \n",
       "2  Services/Hacking     KryptykOG   \n",
       "3  Services/Hacking      cyberzen   \n",
       "4  Services/Hacking  businessdude   \n",
       "\n",
       "                                                Item  \\\n",
       "0                        12 Month HuluPlus gift Code   \n",
       "1  Pay TV Sky UK  Sky Germany HD TV  and much mor...   \n",
       "2               OFFICIAL Account Creator Extreme 4.2   \n",
       "3                          VPN > TOR > SOCK TUTORIAL   \n",
       "4                             Facebook hacking guide   \n",
       "\n",
       "                                    Item Description     Price   Origin  \\\n",
       "0  12-Month HuluPlus Codes for $25. They are wort...  0.050270  Torland   \n",
       "1  Hi we offer a World Wide CCcam  Service for En...  0.152420  Torland   \n",
       "2  Tagged Submission Fix Bebo Submission Fix Adju...  0.007000  Torland   \n",
       "3  How to setup a VPN > TOR > SOCK super safe enc...  0.019017      NaN   \n",
       "4  .  This guide will teach you how to hack Faceb...  0.062018  Torland   \n",
       "\n",
       "  Destination  Rating  \n",
       "0         NaN    4.96  \n",
       "1         NaN    4.96  \n",
       "2         NaN    4.93  \n",
       "3         NaN    4.89  \n",
       "4         NaN    4.88  "
      ]
     },
     "execution_count": 8,
     "metadata": {},
     "output_type": "execute_result"
    }
   ],
   "source": [
    "def kaggle_agora_df(path):\n",
    "    \n",
    "    '''This function is specific to the Kaggle Agora data. Thus, it takes in a file path to the Kaggle data and returns\n",
    "    the dataset in the form of a dataframe with the correct data types for each column.'''\n",
    "\n",
    "    df = pd.read_excel(path)\n",
    "    \n",
    "    # Readjust the columns\n",
    "    df.columns = ['Vendor', 'Category', 'Item', 'Item Description', 'Price', 'Origin', 'Destination', 'Rating', 'Remarks']\n",
    "    df = df.drop(df.columns[-1], axis = 1)\n",
    "    \n",
    "    df = df[['Category', 'Vendor', 'Item', 'Item Description', 'Price', 'Origin', 'Destination', 'Rating']]\n",
    "\n",
    "    # Resolve issues due to shifted columns\n",
    "    df['Origin'].fillna('', inplace = True)\n",
    "    df.loc[df['Origin'].str.contains('BTC')] = 'None'\n",
    "    \n",
    "    # Strip meaningless characters in 'Origin' column\n",
    "    df.loc[df['Origin'].str.contains('\\)'), 'Origin'] = 'None'\n",
    "    df.Origin.where(~df.Origin.str.contains('Undeclared'), 'Undeclared', inplace = True)\n",
    "\n",
    "    # there are occasional ratings of [0 deals] which indicates insufficient deals to provide a concrete rating\n",
    "    # replace strings containing 'deals' with NaN\n",
    "    df['Rating'].fillna('', inplace = True)\n",
    "    df.Rating.where(~df.Rating.str.contains('deals'), np.nan, inplace = True)\n",
    "    \n",
    "    # Strip unecessary characters in order to convert columns to appropriate type\n",
    "    rate = pd.DataFrame(df['Rating'])\n",
    "    df['Rating'] = rate['Rating'].str.replace(\"/5|[^(\\d{1}\\.\\d{2-3})$]\", \"\")\n",
    "    df['Rating'] = pd.to_numeric(df['Rating'])\n",
    "\n",
    "    price = pd.DataFrame(df['Price'])\n",
    "    df['Price'] = price['Price'].str.replace(\"[^(\\d+\\.\\d+)]\", \"\")\n",
    "    df.loc[df['Price'] == ''] = np.nan\n",
    "    df['Price'] = pd.to_numeric(df['Price'])\n",
    "\n",
    "    df = df[~df.duplicated(keep = False)]\n",
    "    df = df.reset_index(drop = True)\n",
    "\n",
    "    df = df.replace('', np.nan, regex=True)\n",
    "    df = df.replace('None', None, regex=True)\n",
    "    \n",
    "    return df\n",
    "\n",
    "path = '../data/dark-net-marketplace-drug-data-agora-20142015/Agora.xlsx'\n",
    "agora = kaggle_agora_df(path)\n",
    "agora.head()"
   ]
  },
  {
   "cell_type": "code",
   "execution_count": 3,
   "metadata": {},
   "outputs": [
    {
     "data": {
      "text/plain": [
       "array(['Services', 'Drugs', 'Forgeries', 'Tobacco', 'Counterfeits',\n",
       "       'Data', 'Information', 'Electronics', 'Drug paraphernalia',\n",
       "       'Other', 'Jewelry',\n",
       "       'the Body Bags  shotty  and Mac make-up To: Kind Hearts and Gentle People',\n",
       "       'Weapons', 'Info',\n",
       "       'home of the Body Bags  shotty  and mag  Kind Hearts and Gentle People',\n",
       "       'Chemicals', '0.12780125125 BTC', '0.1905617980645162 BTC',\n",
       "       'the Body Bags  shotty  and mag To: Kind Hearts and Gentle People'],\n",
       "      dtype=object)"
      ]
     },
     "execution_count": 3,
     "metadata": {},
     "output_type": "execute_result"
    }
   ],
   "source": [
    "# add more sub-categories to dataframe\n",
    "agora['Category'] = agora['Category'].astype(str)\n",
    "cat = [a[0] for a in agora['Category'].str.split(\"/\")]\n",
    "subcat = [w[1] if len(w) > 1 else w[0] + \": Misc\" for w in agora['Category'].str.split(\"/\")]\n",
    "subsubcat = [w[2] if len(w) > 2 else  w[1] + \": Misc\" if len(w) > 1 else w[0] + \": Misc\" for w in agora['Category'].str.split(\"/\")] \n",
    "\n",
    "d = { \n",
    "    'Vendor': agora['Vendor'],\n",
    "    'Category': cat,\n",
    "    'Sub-Category': subcat,\n",
    "    'Sub-Sub-Category': subsubcat,\n",
    "    'Item': agora['Item'],\n",
    "    'Item Description': agora['Item Description'],\n",
    "    'Price': agora['Price'],\n",
    "    'Rating': agora['Rating']\n",
    "}\n",
    "\n",
    "agora_sub_cat = pd.DataFrame(data = d)\n",
    "\n",
    "agora_sub_cat['Category'].unique()\n"
   ]
  },
  {
   "cell_type": "code",
   "execution_count": 6,
   "metadata": {},
   "outputs": [
    {
     "data": {
      "text/plain": [
       "array(['Services', 'Drugs', 'Counterfeits', 'Misc', 'Weapons'],\n",
       "      dtype=object)"
      ]
     },
     "execution_count": 6,
     "metadata": {},
     "output_type": "execute_result"
    }
   ],
   "source": [
    "# Apply categorization algorithm \n",
    "# Simplifies certain categories such as:\n",
    "#   Tobacco, Drugs, and Drug Paraphenalia all gets lumped into Drugs.\n",
    "agora_sub_cat['Category'] = agora_sub_cat['Category'].apply(\n",
    "    lambda x: categorize_text(x, kaggle_drugs, kaggle_serv, kaggle_guns, kaggle_fake)\n",
    ")"
   ]
  },
  {
   "cell_type": "code",
   "execution_count": 10,
   "metadata": {},
   "outputs": [],
   "source": [
    "vendors = agora['Vendor'].unique()"
   ]
  },
  {
   "cell_type": "code",
   "execution_count": 29,
   "metadata": {
    "scrolled": true
   },
   "outputs": [],
   "source": [
    "# value counts returned a list of the size 3191 which wouldn't let it merge with vnedors_list\n",
    "posts = pd.DataFrame(agora['Vendor'].value_counts())['Vendor']\n",
    "posts = [len(agora[agora['Vendor'] == vendor]) for vendor in vendors]"
   ]
  },
  {
   "cell_type": "code",
   "execution_count": 15,
   "metadata": {},
   "outputs": [],
   "source": [
    "vendor_ratings = [np.mean(agora[agora['Vendor'] == vendor]['Rating']) for vendor in vendors]"
   ]
  },
  {
   "cell_type": "code",
   "execution_count": 38,
   "metadata": {
    "scrolled": true
   },
   "outputs": [
    {
     "data": {
      "text/plain": [
       "eBooks          1469\n",
       "Cannabis        1365\n",
       "Prescription    1030\n",
       "Ecstasy          941\n",
       "Watches          818\n",
       "Name: Sub-Category, dtype: int64"
      ]
     },
     "execution_count": 38,
     "metadata": {},
     "output_type": "execute_result"
    }
   ],
   "source": [
    "vendors_df = pd.DataFrame({'Vendor':vendors, 'Avg Rating':vendor_ratings, 'Posts': posts})\n",
    "topseller_list= vendors_df.sort_values(by = ['Posts', 'Avg Rating'], ascending = False)[:20]['Vendor']\n",
    "\n",
    "top20 = agora_sub_cat[agora_sub_cat.Vendor.isin(topseller_list)]\n",
    "notTop = agora_sub_cat[~agora_sub_cat.Vendor.isin(topseller_list)]\n",
    "top20[\"Sub-Category\"].value_counts().head()"
   ]
  },
  {
   "cell_type": "code",
   "execution_count": 46,
   "metadata": {
    "scrolled": false
   },
   "outputs": [
    {
     "data": {
      "text/html": [
       "<div>\n",
       "<style scoped>\n",
       "    .dataframe tbody tr th:only-of-type {\n",
       "        vertical-align: middle;\n",
       "    }\n",
       "\n",
       "    .dataframe tbody tr th {\n",
       "        vertical-align: top;\n",
       "    }\n",
       "\n",
       "    .dataframe thead th {\n",
       "        text-align: right;\n",
       "    }\n",
       "</style>\n",
       "<table border=\"1\" class=\"dataframe\">\n",
       "  <thead>\n",
       "    <tr style=\"text-align: right;\">\n",
       "      <th></th>\n",
       "      <th>Sub-Category</th>\n",
       "      <th>Count</th>\n",
       "      <th>Vendor</th>\n",
       "      <th>Category</th>\n",
       "      <th>Comb-Category</th>\n",
       "    </tr>\n",
       "  </thead>\n",
       "  <tbody>\n",
       "    <tr>\n",
       "      <th>0</th>\n",
       "      <td>Cannabis</td>\n",
       "      <td>29796</td>\n",
       "      <td>Rest of Vendors</td>\n",
       "      <td>Drugs</td>\n",
       "      <td>Drugs: Cannabis</td>\n",
       "    </tr>\n",
       "    <tr>\n",
       "      <th>1</th>\n",
       "      <td>Ecstasy</td>\n",
       "      <td>14042</td>\n",
       "      <td>Rest of Vendors</td>\n",
       "      <td>Drugs</td>\n",
       "      <td>Drugs: Ecstasy</td>\n",
       "    </tr>\n",
       "    <tr>\n",
       "      <th>2</th>\n",
       "      <td>Stimulants</td>\n",
       "      <td>12655</td>\n",
       "      <td>Rest of Vendors</td>\n",
       "      <td>Drugs</td>\n",
       "      <td>Drugs: Stimulants</td>\n",
       "    </tr>\n",
       "    <tr>\n",
       "      <th>3</th>\n",
       "      <td>Money</td>\n",
       "      <td>1661</td>\n",
       "      <td>Rest of Vendors</td>\n",
       "      <td>Counterfeits</td>\n",
       "      <td>Counterfeits: Money</td>\n",
       "    </tr>\n",
       "    <tr>\n",
       "      <th>4</th>\n",
       "      <td>Money</td>\n",
       "      <td>1661</td>\n",
       "      <td>Rest of Vendors</td>\n",
       "      <td>Services</td>\n",
       "      <td>Services: Money</td>\n",
       "    </tr>\n",
       "  </tbody>\n",
       "</table>\n",
       "</div>"
      ],
      "text/plain": [
       "  Sub-Category  Count           Vendor      Category        Comb-Category\n",
       "0     Cannabis  29796  Rest of Vendors         Drugs      Drugs: Cannabis\n",
       "1      Ecstasy  14042  Rest of Vendors         Drugs       Drugs: Ecstasy\n",
       "2   Stimulants  12655  Rest of Vendors         Drugs    Drugs: Stimulants\n",
       "3        Money   1661  Rest of Vendors  Counterfeits  Counterfeits: Money\n",
       "4        Money   1661  Rest of Vendors      Services      Services: Money"
      ]
     },
     "execution_count": 46,
     "metadata": {},
     "output_type": "execute_result"
    }
   ],
   "source": [
    "# get the post counts for each sub-category for the top 20 vendors\n",
    "top20_counts = pd.DataFrame(top20['Sub-Category'].value_counts())\n",
    "top20_counts = top20_counts.reset_index()\n",
    "top20_counts.columns = ['Sub-Category', 'Count']\n",
    "\n",
    "top20_df = pd.merge(top20_counts, top20, on = 'Sub-Category')\n",
    "top20_df['Vendor'] = 'Top 20 Vendor'\n",
    "\n",
    "# get the post counts for each sub-category for other vendors\n",
    "notTop_counts = pd.DataFrame(notTop['Sub-Category'].value_counts())\n",
    "notTop_counts = notTop_counts.reset_index()\n",
    "notTop_counts.columns = ['Sub-Category', 'Count']\n",
    "\n",
    "notTop_df = pd.merge(notTop_counts, notTop, on = 'Sub-Category')\n",
    "notTop_df['Vendor'] = 'Rest of Vendors'\n",
    "\n",
    "# get only the following columns: \"Sub-Category\", \"Category\", \"Vendor\", \"Count\"\n",
    "df = top20_df.iloc[:, [0,1, 2, 3]]\n",
    "df2 = notTop_df.iloc[:, [0,1, 2, 3]]\n",
    "\n",
    "# combine the dataframes\n",
    "comb_df = pd.concat([df, df2])\n",
    "\n",
    "# drop duplicates\n",
    "comb_df = comb_df.drop_duplicates()\n",
    "\n",
    "#get the top 3 highest count of posts for each category\n",
    "comb_df = comb_df.sort_values('Count', ascending = False).groupby(['Vendor', 'Category']).head(3)\n",
    "comb_df = comb_df.reset_index(drop = True)\n",
    "\n",
    "comb_df.sort_values([\"Vendor\", \"Category\"])\n",
    "comb_df['Comb-Category'] = [comb_df['Category'][i] + \": \" + comb_df['Sub-Category'][i] for i in range(0, len(comb_df['Category']))]\n",
    "comb_df.head()"
   ]
  },
  {
   "cell_type": "markdown",
   "metadata": {},
   "source": [
    "## Data Visualization"
   ]
  },
  {
   "cell_type": "code",
   "execution_count": 41,
   "metadata": {},
   "outputs": [
    {
     "name": "stderr",
     "output_type": "stream",
     "text": [
      "/Users/Andy/anaconda3/lib/python3.7/site-packages/IPython/core/display.py:689: UserWarning:\n",
      "\n",
      "Consider using IPython.display.IFrame instead\n",
      "\n"
     ]
    },
    {
     "data": {
      "text/html": [
       "<iframe id=\"igraph\" scrolling=\"no\" style=\"border:none;\" seamless=\"seamless\" src=\"https://plot.ly/~aialba/14.embed\" height=\"525px\" width=\"100%\"></iframe>"
      ],
      "text/plain": [
       "<plotly.tools.PlotlyDisplay object>"
      ]
     },
     "execution_count": 41,
     "metadata": {},
     "output_type": "execute_result"
    }
   ],
   "source": [
    "def vendor_trace(df, vendor):\n",
    "    \n",
    "    '''\n",
    "    \n",
    "    This function was made to generalize the creation of\n",
    "    traces since  the code to make them is almost identical\n",
    "    between traces.\n",
    "    \n",
    "    This function takes in a dataframe with a Comb-Category\n",
    "    Vendor, and Count column. It then creates a plot.ly trace \n",
    "    for the type of vendor and returns said trace.\n",
    "    \n",
    "    '''\n",
    "    \n",
    "    temp_df = df[df['Vendor'] == vendor]\n",
    "    trace = go.Bar(\n",
    "        x = temp_df['Comb-Category'],\n",
    "        y = temp_df['Count'],\n",
    "        name = vendor\n",
    "    )\n",
    "    return trace\n",
    "\n",
    "traces = [vendor_trace(comb_df, v) for v in comb_df['Vendor'].unique()]\n",
    "\n",
    "layout = go.Layout(\n",
    "    barmode='stack',\n",
    "    \n",
    "    title = 'Top 20 Vendor vs Rest of Vendors Activity in Different Categories', \n",
    "    \n",
    "    xaxis=dict(\n",
    "        title= 'Categories and Sub-Categories',\n",
    "        titlefont=dict(\n",
    "            family='Arial, sans-serif',\n",
    "            size=18,\n",
    "            color='black'\n",
    "        ),\n",
    "        \n",
    "        showticklabels=True,\n",
    "        tickangle=25,\n",
    "        tickfont=dict(\n",
    "            size= 10\n",
    "        )\n",
    "    ),\n",
    "    \n",
    "    yaxis = dict(\n",
    "        title = 'Number of Postings',\n",
    "        titlefont=dict(\n",
    "            family='Arial, sans-serif',\n",
    "            size=18,\n",
    "            color='black'\n",
    "        ),\n",
    "        \n",
    "        showticklabels=True,\n",
    "    )\n",
    ")\n",
    "\n",
    "fig = go.Figure(data=traces, layout=layout)\n",
    "py.iplot(fig, filename='top20-stacked-bar')\n",
    "# plotly.offline.plot(fig, filename='top20vsrest.html')"
   ]
  },
  {
   "cell_type": "markdown",
   "metadata": {},
   "source": [
    "[Link to Graph](https://plot.ly/~aialba/14/top-20-vendor-vs-rest-of-vendors-activity-in-different-categories/)"
   ]
  },
  {
   "cell_type": "code",
   "execution_count": 44,
   "metadata": {},
   "outputs": [
    {
     "data": {
      "text/html": [
       "<div>\n",
       "<style scoped>\n",
       "    .dataframe tbody tr th:only-of-type {\n",
       "        vertical-align: middle;\n",
       "    }\n",
       "\n",
       "    .dataframe tbody tr th {\n",
       "        vertical-align: top;\n",
       "    }\n",
       "\n",
       "    .dataframe thead th {\n",
       "        text-align: right;\n",
       "    }\n",
       "</style>\n",
       "<table border=\"1\" class=\"dataframe\">\n",
       "  <thead>\n",
       "    <tr style=\"text-align: right;\">\n",
       "      <th></th>\n",
       "      <th>Sub Category</th>\n",
       "      <th>Count</th>\n",
       "      <th>Category</th>\n",
       "    </tr>\n",
       "  </thead>\n",
       "  <tbody>\n",
       "    <tr>\n",
       "      <th>0</th>\n",
       "      <td>Money</td>\n",
       "      <td>1481</td>\n",
       "      <td>Services</td>\n",
       "    </tr>\n",
       "    <tr>\n",
       "      <th>1</th>\n",
       "      <td>Accounts</td>\n",
       "      <td>1233</td>\n",
       "      <td>Services</td>\n",
       "    </tr>\n",
       "    <tr>\n",
       "      <th>2</th>\n",
       "      <td>Pirated</td>\n",
       "      <td>529</td>\n",
       "      <td>Services</td>\n",
       "    </tr>\n",
       "    <tr>\n",
       "      <th>3</th>\n",
       "      <td>Other</td>\n",
       "      <td>487</td>\n",
       "      <td>Services</td>\n",
       "    </tr>\n",
       "    <tr>\n",
       "      <th>4</th>\n",
       "      <td>Hacking</td>\n",
       "      <td>453</td>\n",
       "      <td>Services</td>\n",
       "    </tr>\n",
       "  </tbody>\n",
       "</table>\n",
       "</div>"
      ],
      "text/plain": [
       "  Sub Category  Count  Category\n",
       "0        Money   1481  Services\n",
       "1     Accounts   1233  Services\n",
       "2      Pirated    529  Services\n",
       "3        Other    487  Services\n",
       "4      Hacking    453  Services"
      ]
     },
     "execution_count": 44,
     "metadata": {},
     "output_type": "execute_result"
    }
   ],
   "source": [
    "def sub_cat_df(cat, df):\n",
    "    \n",
    "    '''\n",
    "        \n",
    "    The intent of this function is to get the counts\n",
    "    of observations for each sub-category within a \n",
    "    given category.\n",
    "    \n",
    "    This function takes in a category name and\n",
    "    a dataframe with columns: Category and \n",
    "    Sub-Category. It then takes the counts of\n",
    "    all of the Sub-Categories using value_counts(),\n",
    "    formats the result as a df, adds a column\n",
    "    for the initial category, and outputs the result.\n",
    "    \n",
    "    '''\n",
    "    \n",
    "    cat_df = pd.DataFrame(df[df['Category'] == cat]['Sub-Category'].value_counts())\n",
    "    cat_df = cat_df.reset_index()\n",
    "    cat_df.columns = ['Sub Category', 'Count']\n",
    "    cat_df['Category'] = cat\n",
    "    return cat_df\n",
    "\n",
    "categories = agora_sub_cat['Category'].unique()\n",
    "sub_cats = sub_cat_df(categories[0], agora_sub_cat)\n",
    "\n",
    "for i in categories[1:len(categories)]:\n",
    "    sub_cats = pd.concat( [sub_cats, sub_cat_df(i, agora_sub_cat)])\n",
    "    \n",
    "sub_cats = sub_cats.reset_index(drop = True)\n",
    "\n",
    "sub_cats = sub_cats.drop([9, 10, 35, 36 ,37]) # dropping really unhelpful Sub categories\n",
    "sub_cats.head()"
   ]
  },
  {
   "cell_type": "code",
   "execution_count": 45,
   "metadata": {},
   "outputs": [
    {
     "name": "stderr",
     "output_type": "stream",
     "text": [
      "/Users/Andy/anaconda3/lib/python3.7/site-packages/IPython/core/display.py:689: UserWarning:\n",
      "\n",
      "Consider using IPython.display.IFrame instead\n",
      "\n"
     ]
    },
    {
     "data": {
      "text/html": [
       "<iframe id=\"igraph\" scrolling=\"no\" style=\"border:none;\" seamless=\"seamless\" src=\"https://plot.ly/~aialba/16.embed\" height=\"525px\" width=\"100%\"></iframe>"
      ],
      "text/plain": [
       "<plotly.tools.PlotlyDisplay object>"
      ]
     },
     "execution_count": 45,
     "metadata": {},
     "output_type": "execute_result"
    }
   ],
   "source": [
    "def subcategory_trace(df, category):\n",
    "    \n",
    "    '''   \n",
    "    This function takes in a dataframe with a Comb-Category\n",
    "    Vendor, and Count column. It then creates a plot.ly trace \n",
    "    for the type of vendor and returns said trace.\n",
    "    \n",
    "    This function was made to generalize the creation of\n",
    "    traces since  the code to make them is almost identical\n",
    "    between traces.\n",
    "    \n",
    "    ''' \n",
    "    \n",
    "    trace = go.Bar(\n",
    "        x = df[df['Category'] == category]['Sub Category'],\n",
    "        y = df[df['Category'] == category]['Count'],\n",
    "        name = category\n",
    "    )\n",
    "    return trace\n",
    "\n",
    "traces = [subcategory_trace(sub_cats, c) for c in sub_cats['Category'].unique()]\n",
    "layout = go.Layout(\n",
    "    barmode='group',\n",
    "    title = 'Number of Items Postings by Sub-Category', \n",
    "    \n",
    "    xaxis=dict(\n",
    "        title='Sub-Categories',\n",
    "        titlefont=dict(\n",
    "            family='Arial, sans-serif',\n",
    "            size=18,\n",
    "            color='black'\n",
    "        ),\n",
    "        \n",
    "        showticklabels=True,\n",
    "        tickangle=30,\n",
    "        tickfont=dict(\n",
    "            size= 10\n",
    "        )\n",
    "    ),\n",
    "    \n",
    "    yaxis = dict(\n",
    "        title = 'Number of Postings',\n",
    "        titlefont=dict(\n",
    "            family='Arial, sans-serif',\n",
    "            size=18,\n",
    "            color='black'\n",
    "        ),\n",
    "        \n",
    "        showticklabels=True,\n",
    "    )\n",
    ")\n",
    "\n",
    "fig = go.Figure(data=traces, layout=layout)\n",
    "py.iplot(fig, filename='top20-grouped-bar')\n",
    "# plotly.offline.plot(fig, filename='subcatitems.html')"
   ]
  },
  {
   "cell_type": "markdown",
   "metadata": {},
   "source": [
    "[Link to Graph](https://plot.ly/~aialba/16/number-of-items-postings-by-sub-category/)"
   ]
  },
  {
   "cell_type": "markdown",
   "metadata": {},
   "source": [
    "I looked into the subcategories of what vendors on the Darknet Market Place Agora were selling. We can see that the most popular item category in Agora is Cannabis with 30,000 observations in the Kaggle data set. The market for Cannabis in Agora is so huge that it dwarfs all others and has more than double postings than the next most popular category. We found that more than 95% of the postings for Cannabis were from non top rated, active vendors. <br>\n",
    "\n",
    "Continuing off the last point, the popularity of Cannabis in top rated, active vendors and others tells us that many vendors are selling Cannabis. One cause of the variety of vendors posting about Cannabis may come from its legalization across a few different state in the US (Berke). People who may want to make some easy money buying and reselling weed to states where it is not legal. Regardless of the potential reasons behind the popularity of Cannabis amongst Agora users, we can see current the current laws of the prohibition of Cannabis is widely unpopular.<br>\n",
    "\n",
    "Moving on, the second most popular category of items that top rated, active vendors sold were e-books with almost 1,500 thousand observations of this in the Kaggle data set. This tells us that one of the most sustainable markets in Agora is for ebooks. This may come from the ease in generating or providing eBooks. Another reason why successful vendors have longer lifespans in this market may be because law enforcement agencies may not be looking for people who illegally share books online. This makes it a lot safer and sustainable for vendors to thrive and survive in this market and may also be why top rated, active vendors tend not to sell in the drugs market in Agora."
   ]
  }
 ],
 "metadata": {
  "kernelspec": {
   "display_name": "Python 3",
   "language": "python",
   "name": "python3"
  },
  "language_info": {
   "codemirror_mode": {
    "name": "ipython",
    "version": 3
   },
   "file_extension": ".py",
   "mimetype": "text/x-python",
   "name": "python",
   "nbconvert_exporter": "python",
   "pygments_lexer": "ipython3",
   "version": "3.7.1"
  }
 },
 "nbformat": 4,
 "nbformat_minor": 2
}
